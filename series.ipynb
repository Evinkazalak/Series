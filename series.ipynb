{
 "cells": [
  {
   "cell_type": "markdown",
   "id": "ff925c81",
   "metadata": {},
   "source": [
    "# PANDAS\n",
    "\n",
    "-VERİ analizi kütüphanesidir\n",
    "-veri görselleştirmeye olanak sağlar\n",
    "-Pandas için bu işin exceli deniliyor"
   ]
  },
  {
   "cell_type": "code",
   "execution_count": 14,
   "id": "2c5b9d36",
   "metadata": {},
   "outputs": [],
   "source": [
    "import pandas as pd\n",
    "import numpy as np"
   ]
  },
  {
   "cell_type": "markdown",
   "id": "33e055f2",
   "metadata": {},
   "source": [
    "# SERİES"
   ]
  },
  {
   "cell_type": "code",
   "execution_count": 15,
   "id": "effc5b07",
   "metadata": {},
   "outputs": [],
   "source": [
    "#NUMPY daki diziler üzerine inşa edilen bir yapıdır.\n",
    "#dizilere göre daha esneklerdir."
   ]
  },
  {
   "cell_type": "code",
   "execution_count": 16,
   "id": "ccd972fb",
   "metadata": {},
   "outputs": [],
   "source": [
    "benımSozlugum={\"evin\": 50,\"kadir \":70, \"erva\": 90}"
   ]
  },
  {
   "cell_type": "code",
   "execution_count": 17,
   "id": "b643dc92",
   "metadata": {},
   "outputs": [
    {
     "data": {
      "text/plain": [
       "evin      50\n",
       "kadir     70\n",
       "erva      90\n",
       "dtype: int64"
      ]
     },
     "execution_count": 17,
     "metadata": {},
     "output_type": "execute_result"
    }
   ],
   "source": [
    "pd.Series(benımSozlugum)"
   ]
  },
  {
   "cell_type": "code",
   "execution_count": 18,
   "id": "9226e2fd",
   "metadata": {},
   "outputs": [
    {
     "data": {
      "text/plain": [
       "pandas.core.series.Series"
      ]
     },
     "execution_count": 18,
     "metadata": {},
     "output_type": "execute_result"
    }
   ],
   "source": [
    "type(pd.Series(benımSozlugum))"
   ]
  },
  {
   "cell_type": "code",
   "execution_count": 19,
   "id": "416ed2ca",
   "metadata": {},
   "outputs": [],
   "source": [
    "benımYaslarım=[23,24,21,22]\n",
    "benımIsımlerım=[\"evin\",\"erva\",\"asil\",\"berfin\"]"
   ]
  },
  {
   "cell_type": "code",
   "execution_count": 20,
   "id": "168d323f",
   "metadata": {},
   "outputs": [
    {
     "data": {
      "text/plain": [
       "0      evin\n",
       "1      erva\n",
       "2      asil\n",
       "3    berfin\n",
       "dtype: object"
      ]
     },
     "execution_count": 20,
     "metadata": {},
     "output_type": "execute_result"
    }
   ],
   "source": [
    "pd.Series(benımIsımlerım)"
   ]
  },
  {
   "cell_type": "code",
   "execution_count": 21,
   "id": "04171df3",
   "metadata": {},
   "outputs": [
    {
     "data": {
      "text/plain": [
       "0    23\n",
       "1    24\n",
       "2    21\n",
       "3    22\n",
       "dtype: int64"
      ]
     },
     "execution_count": 21,
     "metadata": {},
     "output_type": "execute_result"
    }
   ],
   "source": [
    "pd.Series(benımYaslarım)"
   ]
  },
  {
   "cell_type": "code",
   "execution_count": 22,
   "id": "7d931ef2",
   "metadata": {},
   "outputs": [
    {
     "data": {
      "text/plain": [
       "23      evin\n",
       "24      erva\n",
       "21      asil\n",
       "22    berfin\n",
       "dtype: object"
      ]
     },
     "execution_count": 22,
     "metadata": {},
     "output_type": "execute_result"
    }
   ],
   "source": [
    "pd.Series(benımIsımlerım,benımYaslarım)"
   ]
  },
  {
   "cell_type": "code",
   "execution_count": 23,
   "id": "0c32c433",
   "metadata": {},
   "outputs": [
    {
     "data": {
      "text/plain": [
       "evin      23\n",
       "erva      24\n",
       "asil      21\n",
       "berfin    22\n",
       "dtype: int64"
      ]
     },
     "execution_count": 23,
     "metadata": {},
     "output_type": "execute_result"
    }
   ],
   "source": [
    "#esas veriler sağ  tarafta verilir. sol  tarafta verilenler ise  indeks numaraları olur\n",
    "pd.Series(benımYaslarım,benımIsımlerım)"
   ]
  },
  {
   "cell_type": "code",
   "execution_count": 24,
   "id": "01b9c9fb",
   "metadata": {},
   "outputs": [
    {
     "data": {
      "text/plain": [
       "evin      23\n",
       "erva      24\n",
       "asil      21\n",
       "berfin    22\n",
       "dtype: int64"
      ]
     },
     "execution_count": 24,
     "metadata": {},
     "output_type": "execute_result"
    }
   ],
   "source": [
    "# karışmaması için şunu yapıyoruz\n",
    "pd.Series(data=benımYaslarım ,index=benımIsımlerım)"
   ]
  },
  {
   "cell_type": "code",
   "execution_count": 29,
   "id": "cc57ddd0",
   "metadata": {},
   "outputs": [],
   "source": [
    "numpyDızısı=np.array([50,30,40,60])\n"
   ]
  },
  {
   "cell_type": "code",
   "execution_count": 30,
   "id": "9b2f035e",
   "metadata": {},
   "outputs": [
    {
     "data": {
      "text/plain": [
       "array([50, 30, 40, 60])"
      ]
     },
     "execution_count": 30,
     "metadata": {},
     "output_type": "execute_result"
    }
   ],
   "source": [
    "numpyDızısı"
   ]
  },
  {
   "cell_type": "code",
   "execution_count": 31,
   "id": "365703fb",
   "metadata": {},
   "outputs": [
    {
     "data": {
      "text/plain": [
       "0    50\n",
       "1    30\n",
       "2    40\n",
       "3    60\n",
       "dtype: int32"
      ]
     },
     "execution_count": 31,
     "metadata": {},
     "output_type": "execute_result"
    }
   ],
   "source": [
    "pd.Series(numpyDızısı)"
   ]
  },
  {
   "cell_type": "code",
   "execution_count": 32,
   "id": "def3d292",
   "metadata": {},
   "outputs": [
    {
     "data": {
      "text/plain": [
       "evin      50\n",
       "erva      30\n",
       "asil      40\n",
       "berfin    60\n",
       "dtype: int32"
      ]
     },
     "execution_count": 32,
     "metadata": {},
     "output_type": "execute_result"
    }
   ],
   "source": [
    "pd.Series(numpyDızısı,benımIsımlerım)"
   ]
  },
  {
   "cell_type": "code",
   "execution_count": 34,
   "id": "f3ee3ae0",
   "metadata": {},
   "outputs": [
    {
     "data": {
      "text/plain": [
       "1    Asil\n",
       "2    Erva\n",
       "3    Evin\n",
       "dtype: object"
      ]
     },
     "execution_count": 34,
     "metadata": {},
     "output_type": "execute_result"
    }
   ],
   "source": [
    "pd.Series([\"Asil\",\"Erva\",\"Evin\"],[1,2,3])"
   ]
  },
  {
   "cell_type": "code",
   "execution_count": 35,
   "id": "b585a51a",
   "metadata": {},
   "outputs": [],
   "source": [
    "sonuc1=pd.Series([10,5,1],[\"ayşem\",\"berfin\",\"fatma\"])"
   ]
  },
  {
   "cell_type": "code",
   "execution_count": 36,
   "id": "c4d6548b",
   "metadata": {},
   "outputs": [
    {
     "data": {
      "text/plain": [
       "ayşem     10\n",
       "berfin     5\n",
       "fatma      1\n",
       "dtype: int64"
      ]
     },
     "execution_count": 36,
     "metadata": {},
     "output_type": "execute_result"
    }
   ],
   "source": [
    "sonuc1"
   ]
  },
  {
   "cell_type": "code",
   "execution_count": 37,
   "id": "4b2b6516",
   "metadata": {},
   "outputs": [],
   "source": [
    "sonuc2=pd.Series([12,34,56],[\"can\",\"barış\",\"süha\"])"
   ]
  },
  {
   "cell_type": "code",
   "execution_count": 38,
   "id": "71d015a6",
   "metadata": {},
   "outputs": [
    {
     "data": {
      "text/plain": [
       "can      12\n",
       "barış    34\n",
       "süha     56\n",
       "dtype: int64"
      ]
     },
     "execution_count": 38,
     "metadata": {},
     "output_type": "execute_result"
    }
   ],
   "source": [
    "sonuc2"
   ]
  },
  {
   "cell_type": "code",
   "execution_count": 39,
   "id": "b0e42a5e",
   "metadata": {},
   "outputs": [
    {
     "data": {
      "text/plain": [
       "56"
      ]
     },
     "execution_count": 39,
     "metadata": {},
     "output_type": "execute_result"
    }
   ],
   "source": [
    "sonuc2[2]"
   ]
  },
  {
   "cell_type": "code",
   "execution_count": 40,
   "id": "e197af00",
   "metadata": {},
   "outputs": [
    {
     "data": {
      "text/plain": [
       "56"
      ]
     },
     "execution_count": 40,
     "metadata": {},
     "output_type": "execute_result"
    }
   ],
   "source": [
    "sonuc2[\"süha\"]"
   ]
  },
  {
   "cell_type": "code",
   "execution_count": 41,
   "id": "4f19d9d3",
   "metadata": {},
   "outputs": [
    {
     "data": {
      "text/plain": [
       "12"
      ]
     },
     "execution_count": 41,
     "metadata": {},
     "output_type": "execute_result"
    }
   ],
   "source": [
    "sonuc2[\"can\"]"
   ]
  },
  {
   "cell_type": "code",
   "execution_count": 46,
   "id": "18a5a700",
   "metadata": {},
   "outputs": [],
   "source": [
    "# iki sonucu toplayıp bir değişkene atayacağım sadece ortak olanları toplayacak \n",
    "# sadece kesişim olan yerleri toplayacak diğer yerlere dokunmayacaktır\n",
    "anaSonuc=sonuc1+sonuc2"
   ]
  },
  {
   "cell_type": "code",
   "execution_count": 47,
   "id": "f0f0c4d9",
   "metadata": {},
   "outputs": [
    {
     "data": {
      "text/plain": [
       "ayşem    NaN\n",
       "barış    NaN\n",
       "berfin   NaN\n",
       "can      NaN\n",
       "fatma    NaN\n",
       "süha     NaN\n",
       "dtype: float64"
      ]
     },
     "execution_count": 47,
     "metadata": {},
     "output_type": "execute_result"
    }
   ],
   "source": [
    "anaSonuc"
   ]
  },
  {
   "cell_type": "code",
   "execution_count": null,
   "id": "9b50b4ed",
   "metadata": {},
   "outputs": [],
   "source": []
  }
 ],
 "metadata": {
  "kernelspec": {
   "display_name": "Python 3 (ipykernel)",
   "language": "python",
   "name": "python3"
  },
  "language_info": {
   "codemirror_mode": {
    "name": "ipython",
    "version": 3
   },
   "file_extension": ".py",
   "mimetype": "text/x-python",
   "name": "python",
   "nbconvert_exporter": "python",
   "pygments_lexer": "ipython3",
   "version": "3.9.7"
  }
 },
 "nbformat": 4,
 "nbformat_minor": 5
}
